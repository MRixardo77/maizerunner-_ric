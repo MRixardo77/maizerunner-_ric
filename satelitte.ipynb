{
 "cells": [
  {
   "cell_type": "code",
   "execution_count": 8,
   "metadata": {},
   "outputs": [],
   "source": [
    "\n",
    "import ee\n",
    "import pandas as pd\n",
    "import matplotlib.pyplot as plt\n"
   ]
  },
  {
   "cell_type": "code",
   "execution_count": 9,
   "metadata": {},
   "outputs": [],
   "source": [
    "ee.Initialize(project='ee-bhatia-research')"
   ]
  },
  {
   "cell_type": "code",
   "execution_count": 10,
   "metadata": {},
   "outputs": [],
   "source": [
    "#collection of land coverage\n",
    "\n",
    "# Land surface temp.\n",
    "lst = ee.ImageCollection(\"MODIS/061/MOD11A1\") \n",
    "\n"
   ]
  },
  {
   "cell_type": "code",
   "execution_count": 11,
   "metadata": {},
   "outputs": [],
   "source": [
    "# Initial date of interest (inclusive).\n",
    "i_date = '2018-01-01'\n",
    "\n",
    "# Final date of interest (exclusive).\n",
    "f_date = '2024-01-01'\n",
    "\n",
    "# Selection of appropriate bands and dates for LST.\n",
    "lst = lst.select('LST_Day_1km', 'QC_Day').filterDate(i_date, f_date)"
   ]
  },
  {
   "cell_type": "code",
   "execution_count": 24,
   "metadata": {},
   "outputs": [
    {
     "name": "stdout",
     "output_type": "stream",
     "text": [
      "1\n"
     ]
    }
   ],
   "source": [
    "filename = 'world_cereals_scaled_final_all.csv'\n",
    "chunks = []\n",
    "counter = 0\n",
    "\n",
    "for chunk in pd.read_csv(filename, chunksize=1000):\n",
    "    # Processing each chunk\n",
    "    df = chunk.copy()  # Make a copy to avoid modifying the original chunk\n",
    "    df = df[df['Crop'] == 'Maize']\n",
    "    \n",
    "    # Append the modified chunk to the list of chunks\n",
    "    chunks.append(df)\n",
    "    \n",
    "    counter += 1\n",
    "    print(counter)\n",
    "    \n",
    "    # Break out of the loop after processing the first chunk\n",
    "    break\n",
    "\n",
    "df = pd.concat(chunks, ignore_index=True)"
   ]
  },
  {
   "cell_type": "code",
   "execution_count": 25,
   "metadata": {},
   "outputs": [
    {
     "name": "stdout",
     "output_type": "stream",
     "text": [
      "<bound method NDFrame.describe of      Unnamed: 0        lon        lat   Crop Country (Admin 0)  \\\n",
      "0             0 -62.663466 -19.297688  Maize           Bolivia   \n",
      "1             1 -62.955466 -19.531271  Maize           Bolivia   \n",
      "2             2 -62.807133 -19.596771  Maize           Bolivia   \n",
      "3             3 -62.991550 -19.735437  Maize           Bolivia   \n",
      "4             4 -62.974216 -19.668354  Maize           Bolivia   \n",
      "..          ...        ...        ...    ...               ...   \n",
      "995         995 -63.332133 -22.448597  Maize         Argentina   \n",
      "996         996 -63.297800 -22.399431  Maize         Argentina   \n",
      "997         997 -63.287133 -22.455764  Maize         Argentina   \n",
      "998         998 -63.261133 -22.404847  Maize         Argentina   \n",
      "999         999 -63.293633 -22.396264  Maize         Argentina   \n",
      "\n",
      "    State (Admin 1)        Region (World Bank)      Subregion      Continent  \\\n",
      "0        Santa Cruz  Latin America & Caribbean  South America  South America   \n",
      "1        Santa Cruz  Latin America & Caribbean  South America  South America   \n",
      "2        Santa Cruz  Latin America & Caribbean  South America  South America   \n",
      "3        Santa Cruz  Latin America & Caribbean  South America  South America   \n",
      "4        Santa Cruz  Latin America & Caribbean  South America  South America   \n",
      "..              ...                        ...            ...            ...   \n",
      "995           Salta  Latin America & Caribbean  South America  South America   \n",
      "996           Salta  Latin America & Caribbean  South America  South America   \n",
      "997           Salta  Latin America & Caribbean  South America  South America   \n",
      "998           Salta  Latin America & Caribbean  South America  South America   \n",
      "999           Salta  Latin America & Caribbean  South America  South America   \n",
      "\n",
      "     aez_id  \n",
      "0      2154  \n",
      "1      2154  \n",
      "2      2154  \n",
      "3      2154  \n",
      "4      2154  \n",
      "..      ...  \n",
      "995    2154  \n",
      "996    2154  \n",
      "997    2154  \n",
      "998    2154  \n",
      "999    2154  \n",
      "\n",
      "[1000 rows x 10 columns]>\n"
     ]
    }
   ],
   "source": [
    "print(df.describe)"
   ]
  },
  {
   "cell_type": "code",
   "execution_count": 26,
   "metadata": {},
   "outputs": [],
   "source": [
    "def create_gee_point(row):\n",
    "    return ee.Geometry.Point([row['lon'], row['lat']])\n",
    "\n",
    "df['GEE_Point'] = df.apply(create_gee_point, axis=1)"
   ]
  },
  {
   "cell_type": "code",
   "execution_count": 27,
   "metadata": {},
   "outputs": [],
   "source": [
    "def extract_lst(point, start_date, end_date):\n",
    "    lst = ee.ImageCollection(\"MODIS/061/MOD11A1\") \\\n",
    "            .select('LST_Day_1km') \\\n",
    "            .filterDate(start_date, end_date) \\\n",
    "            .filterBounds(point)\n",
    "    \n",
    "    def get_lst(image):\n",
    "        lst_value = image.reduceRegion(reducer=ee.Reducer.mean(), geometry=point, scale=1000)\n",
    "        return ee.Feature(None, {'LST_Day_1km': lst_value.get('LST_Day_1km'), 'date': image.date().format('YYYY-MM-dd')})\n",
    "    \n",
    "    lst_series = lst.map(get_lst).getInfo()\n",
    "    lst_data = {}\n",
    "    for feature in lst_series['features']:\n",
    "        properties = feature['properties']\n",
    "        date = properties['date']\n",
    "        lst_data[date] = properties.get('LST_Day_1km', None)  # Use .get to avoid KeyError\n",
    "    \n",
    "    return lst_data\n"
   ]
  },
  {
   "cell_type": "code",
   "execution_count": 28,
   "metadata": {},
   "outputs": [],
   "source": [
    "lst_data = {}\n",
    "for index, row in df.iterrows():\n",
    "    point = row['GEE_Point']\n",
    "    point_id = f\"Point_{index}\"\n",
    "    lst_data[point_id] = extract_lst(point, i_date, f_date)"
   ]
  },
  {
   "cell_type": "code",
   "execution_count": 29,
   "metadata": {},
   "outputs": [],
   "source": [
    "for point_id, data in lst_data.items():\n",
    "    for date, temp in data.items():\n",
    "        if temp is not None:\n",
    "            data[date] = (temp * 0.02) - 273.15\n",
    "        else:\n",
    "            data[date] = None"
   ]
  },
  {
   "cell_type": "code",
   "execution_count": null,
   "metadata": {},
   "outputs": [],
   "source": [
    "all_dates = pd.date_range(start=i_date, end=f_date, freq='D').strftime('%Y-%m-%d')\n",
    "\n",
    "# Initialize an empty DataFrame with dates as the index\n",
    "temperature_df = pd.DataFrame(index=all_dates)\n",
    "\n",
    "# Populate the DataFrame with the extracted LST data\n",
    "for point_id, data in lst_data.items():\n",
    "    temperature_df[point_id] = pd.Series(data)\n",
    "temperature_df.dropna(inplace=True)"
   ]
  },
  {
   "cell_type": "code",
   "execution_count": 33,
   "metadata": {},
   "outputs": [
    {
     "name": "stdout",
     "output_type": "stream",
     "text": [
      "            Point_0  Point_1  Point_2  Point_3  Point_4  Point_5  Point_6  \\\n",
      "2018-02-22    36.37    29.15    30.11    28.43    28.99    29.59    32.19   \n",
      "2018-05-13    31.31    28.81    28.21    29.57    27.29    27.55    30.87   \n",
      "2018-05-20    28.39    24.83    23.63    26.59    24.03    24.55    26.69   \n",
      "2018-08-10    29.67    28.87    27.03    30.13    29.85    29.87    32.89   \n",
      "2018-08-12    34.53    32.21    31.53    33.21    33.57    32.99    35.11   \n",
      "\n",
      "            Point_7  Point_8  Point_9  ...  Point_990  Point_991  Point_992  \\\n",
      "2018-02-22    30.27    31.75    31.97  ...      32.11      28.23      32.11   \n",
      "2018-05-13    28.55    28.97    29.77  ...      27.35      25.01      27.35   \n",
      "2018-05-20    25.45    25.31    26.55  ...      22.91      21.53      22.91   \n",
      "2018-08-10    29.93    32.15    30.99  ...      26.85      23.07      26.85   \n",
      "2018-08-12    33.11    34.81    34.05  ...      31.61      27.33      31.61   \n",
      "\n",
      "            Point_993  Point_994  Point_995  Point_996  Point_997  Point_998  \\\n",
      "2018-02-22      32.75      29.27      32.39      28.61      28.19      29.57   \n",
      "2018-05-13      26.13      28.41      27.57      25.81      27.71      26.91   \n",
      "2018-05-20      22.55      23.83      22.71      21.91      23.09      23.35   \n",
      "2018-08-10      27.45      26.53      28.29      23.85      27.83      26.07   \n",
      "2018-08-12      32.01      30.91      31.43      27.95      32.43      30.39   \n",
      "\n",
      "            Point_999  \n",
      "2018-02-22      29.11  \n",
      "2018-05-13      26.55  \n",
      "2018-05-20      23.17  \n",
      "2018-08-10      26.27  \n",
      "2018-08-12      30.03  \n",
      "\n",
      "[5 rows x 1000 columns]\n",
      "                   PC1        PC2        PC3        PC4        PC5        PC6  \\\n",
      "2018-02-22 -174.460854 -12.698093  -7.948174   1.760262   3.837402 -12.369510   \n",
      "2018-05-13 -242.058805 -25.203657  11.778841 -17.869171   6.443504   0.919391   \n",
      "2018-05-20 -367.090460 -26.595480  15.580058 -14.557880   5.145512  -5.101205   \n",
      "2018-08-10 -251.006563 -19.182538  28.183891 -10.092853  25.401191  10.239488   \n",
      "2018-08-12 -111.802178   9.179451  21.716395 -22.101403  28.155797  -3.938921   \n",
      "\n",
      "                  PC7        PC8        PC9       PC10  \n",
      "2018-02-22 -21.844069 -10.206294 -10.215626 -13.268122  \n",
      "2018-05-13   0.066545   1.210523   4.159539 -12.068788  \n",
      "2018-05-20   6.963306  10.576154   5.946946  -6.014850  \n",
      "2018-08-10  -9.645019   1.223338  -2.714810   1.892943  \n",
      "2018-08-12  -2.703354 -14.412779  -0.025719  -2.670128  \n"
     ]
    }
   ],
   "source": [
    "from sklearn.decomposition import PCA\n",
    "print(temperature_df.head())\n",
    "\n",
    "pca = PCA(n_components=10)  # Adjust the number of components as needed\n",
    "principal_components = pca.fit_transform(temperature_df)\n",
    "\n",
    "# Create a new DataFrame with the principal components\n",
    "pca_columns = [f'PC{i+1}' for i in range(principal_components.shape[1])]\n",
    "pca_df = pd.DataFrame(principal_components, index=temperature_df.index, columns=pca_columns)\n",
    "\n",
    "# Check the DataFrame with principal components\n",
    "print(pca_df.head())"
   ]
  }
 ],
 "metadata": {
  "kernelspec": {
   "display_name": "base",
   "language": "python",
   "name": "python3"
  },
  "language_info": {
   "codemirror_mode": {
    "name": "ipython",
    "version": 3
   },
   "file_extension": ".py",
   "mimetype": "text/x-python",
   "name": "python",
   "nbconvert_exporter": "python",
   "pygments_lexer": "ipython3",
   "version": "3.11.4"
  }
 },
 "nbformat": 4,
 "nbformat_minor": 2
}
