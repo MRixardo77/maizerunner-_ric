{
 "cells": [
  {
   "cell_type": "code",
   "execution_count": 73,
   "metadata": {},
   "outputs": [],
   "source": [
    "import pandas as pd \n",
    "import os\n",
    "import copy\n",
    "import statsmodels.api as sm\n",
    "import numpy as np\n",
    "from sklearn import linear_model\n",
    "from sklearn.model_selection import GridSearchCV\n",
    "from sklearn.metrics import mean_squared_error\n",
    "from sklearn.model_selection import train_test_split, cross_val_score, GridSearchCV\n",
    "from sklearn.ensemble import RandomForestRegressor\n",
    "from sklearn.metrics import mean_absolute_error, mean_squared_error,root_mean_squared_error\n",
    "from sklearn.metrics import r2_score\n",
    "import optuna\n",
    "import seaborn as sns"
   ]
  },
  {
   "cell_type": "code",
   "execution_count": 74,
   "metadata": {},
   "outputs": [],
   "source": [
    "import pandas as pd\n",
    "import os\n",
    "\n",
    "# Define the path to the folder containing the CSV files\n",
    "folder_path = r\"C:\\Users\\aadit\\ESA Research\\Contract Pricing\"\n",
    "\n",
    "# List all files in the directory\n",
    "file_names = [\n",
    "    'Contracts Pricing - December 24.csv',\n",
    "    'Contracts Pricing - December 25.csv',\n",
    "    'Contracts Pricing - March 25.csv',\n",
    "    'Contracts Pricing - March 26.csv',\n",
    "    'Contracts Pricing - May 25.csv',\n",
    "    'Contracts Pricing - May 26.csv',\n",
    "    'Contracts Pricing - July 24.csv',\n",
    "    'Contracts Pricing - July 25.csv',\n",
    "    'Contracts Pricing - September 24.csv',\n",
    "    'Contracts Pricing - September 25.csv'\n",
    "]\n",
    "\n",
    "# Create an empty dictionary to store DataFrames\n",
    "dataframes = {}\n",
    "\n",
    "# Loop through each file and read it into a DataFrame\n",
    "for file_name in file_names:\n",
    "    file_path = os.path.join(folder_path, file_name)\n",
    "    df_name = file_name.split('.')[0]  # Use the file name without extension as the DataFrame name\n",
    "    dataframes[df_name] = pd.read_csv(file_path)"
   ]
  },
  {
   "cell_type": "code",
   "execution_count": 75,
   "metadata": {},
   "outputs": [],
   "source": [
    "import copy\n",
    "import pandas as pd\n",
    "import numpy as np\n",
    "\n",
    "dfs_list = list(dataframes.values())\n",
    "\n",
    "for df in dfs_list:\n",
    "    # Convert the 'Date' column to datetime with the correct format\n",
    "    df['Date'] = pd.to_datetime(df['Date'], format=\"%b %d, %Y\")\n",
    "    df['Maturity Date'] = pd.to_datetime(df['Maturity Date'], format=\"%m/%d/%Y\")\n",
    "\n",
    "    \n",
    "    # Replace '-' with NaN in 'Adj Close' column\n",
    "    df['Adj Close'].replace('-', np.nan, inplace=True)\n",
    "    \n",
    "    # Replace '-' with 0 in 'Volume' column\n",
    "    df['Volume'].replace('-', 0, inplace=True)\n",
    "    \n",
    "    # Drop rows with NaN values in 'Adj Close' column\n",
    "    df.dropna(subset=['Adj Close'], inplace=True)\n",
    "    nan_values = df.isna().sum()\n",
    "    df['Time to Maturity'] = (df['Maturity Date'] - df['Date']).dt.days\n",
    "    \n",
    "\n",
    "    df['Adj Close'] = pd.to_numeric(df['Adj Close'])\n",
    "    # Replace commas with empty string in 'Volume' column\n",
    "    df['Volume'] = df['Volume'].str.replace(',', '')\n",
    "\n",
    "# Convert 'Volume' column to numeric type\n",
    "    df['Volume'] = pd.to_numeric(df['Volume'])\n",
    "    df['Maturity Month'] = pd.to_numeric(df['Maturity Month'])\n",
    "    df['Maturity Year'] = pd.to_numeric(df['Maturity Year'])\n",
    "\n",
    "\n",
    "\n",
    "\n"
   ]
  },
  {
   "cell_type": "code",
   "execution_count": 76,
   "metadata": {},
   "outputs": [],
   "source": [
    "for df in dfs_list:\n",
    "    df.iloc[:] = df.iloc[::-1].values\n",
    "    df['Returns'] = df['Adj Close'].pct_change() * 100\n",
    "    df['Next Day Returns'] = df['Returns'].shift(-1)\n",
    "    df = df.iloc[1::-1]"
   ]
  },
  {
   "cell_type": "code",
   "execution_count": 77,
   "metadata": {},
   "outputs": [
    {
     "name": "stdout",
     "output_type": "stream",
     "text": [
      "<class 'pandas.core.frame.DataFrame'>\n"
     ]
    }
   ],
   "source": [
    "merged_df = pd.concat(dfs_list)\n",
    "print(type(merged_df))"
   ]
  },
  {
   "cell_type": "code",
   "execution_count": 78,
   "metadata": {},
   "outputs": [],
   "source": [
    "\n",
    "def objective(trial):\n",
    "    params = {\n",
    "        'n_estimators': trial.suggest_int('n_estimators', 100, 1000),\n",
    "        'max_depth': trial.suggest_int('max_depth', 5, 30),\n",
    "        'min_samples_split': trial.suggest_int('min_samples_split', 2, 20),\n",
    "        'min_samples_leaf': trial.suggest_int('min_samples_leaf', 1, 10),\n",
    "        'max_features': trial.suggest_categorical('max_features', ['sqrt', 'log2', None])\n",
    "    }\n",
    "\n",
    "    rf_model = RandomForestRegressor(**params, random_state=42)\n",
    "\n",
    "    # Train the model\n",
    "    rf_model.fit(X_train, y_train)\n",
    "\n",
    "    # Evaluate the model\n",
    "    y_pred = rf_model.predict(X_test)\n",
    "    return mean_squared_error(y_test, y_pred)"
   ]
  },
  {
   "cell_type": "code",
   "execution_count": 80,
   "metadata": {},
   "outputs": [
    {
     "name": "stdout",
     "output_type": "stream",
     "text": [
      "                            OLS Regression Results                            \n",
      "==============================================================================\n",
      "Dep. Variable:       Next Day Returns   R-squared:                       0.003\n",
      "Model:                            OLS   Adj. R-squared:                  0.001\n",
      "Method:                 Least Squares   F-statistic:                     1.528\n",
      "Date:                Thu, 30 May 2024   Prob (F-statistic):              0.178\n",
      "Time:                        19:06:22   Log-Likelihood:                -3256.8\n",
      "No. Observations:                2440   AIC:                             6526.\n",
      "Df Residuals:                    2434   BIC:                             6560.\n",
      "Df Model:                           5                                         \n",
      "Covariance Type:            nonrobust                                         \n",
      "====================================================================================\n",
      "                       coef    std err          t      P>|t|      [0.025      0.975]\n",
      "------------------------------------------------------------------------------------\n",
      "const                0.9323      0.956      0.975      0.330      -0.942       2.807\n",
      "Returns              0.0165      0.020      0.831      0.406      -0.022       0.055\n",
      "Maturity Month      -0.0038      0.007     -0.529      0.597      -0.018       0.010\n",
      "Maturity Year       -0.0413      0.038     -1.074      0.283      -0.117       0.034\n",
      "Time to Maturity     0.0002   8.45e-05      1.976      0.048    1.31e-06       0.000\n",
      "Volume           -4.699e-07   8.86e-07     -0.530      0.596   -2.21e-06    1.27e-06\n",
      "==============================================================================\n",
      "Omnibus:                      186.291   Durbin-Watson:                   1.959\n",
      "Prob(Omnibus):                  0.000   Jarque-Bera (JB):              952.571\n",
      "Skew:                           0.127   Prob(JB):                    1.42e-207\n",
      "Kurtosis:                       6.050   Cond. No.                     1.29e+06\n",
      "==============================================================================\n",
      "\n",
      "Notes:\n",
      "[1] Standard Errors assume that the covariance matrix of the errors is correctly specified.\n",
      "[2] The condition number is large, 1.29e+06. This might indicate that there are\n",
      "strong multicollinearity or other numerical problems.\n",
      "Mean Absolute Error (MAE): 0.71\n",
      "Root Mean Squared Error (RMSE): 0.98\n"
     ]
    }
   ],
   "source": [
    "merged_df = merged_df.dropna()\n",
    "\n",
    "x_vars = ['Returns', 'Maturity Month', 'Maturity Year', 'Time to Maturity', 'Volume']\n",
    "X = merged_df.loc[:, x_vars]\n",
    "y = merged_df['Next Day Returns']\n",
    "\n",
    "X_train, X_test, y_train, y_test = train_test_split(X, y, test_size=0.25, random_state=42)\n",
    "\n",
    "# Fit the OLS model\n",
    "X_train = sm.add_constant(X_train)\n",
    "model = sm.OLS(y_train, X_train).fit()\n",
    "\n",
    "# Make predictions on the test set\n",
    "X_test = sm.add_constant(X_test)\n",
    "y_pred = model.predict(X_test)\n",
    "\n",
    "# Evaluate the model\n",
    "mae = mean_absolute_error(y_test, y_pred)\n",
    "rmse = np.sqrt(mean_squared_error(y_test, y_pred))  # Corrected function name\n",
    "\n",
    "# Print model summary and evaluation metrics\n",
    "print(model.summary())\n",
    "print(f\"Mean Absolute Error (MAE): {mae:.2f}\")\n",
    "print(f\"Root Mean Squared Error (RMSE): {rmse:.2f}\")\n"
   ]
  },
  {
   "cell_type": "code",
   "execution_count": 81,
   "metadata": {},
   "outputs": [
    {
     "name": "stderr",
     "output_type": "stream",
     "text": [
      "[I 2024-05-30 19:07:17,962] A new study created in memory with name: no-name-2a188ba2-a3dd-4731-a8a9-a0c0173afa2a\n",
      "[I 2024-05-30 19:07:26,352] Trial 0 finished with value: 0.9750148439917656 and parameters: {'n_estimators': 568, 'max_depth': 12, 'min_samples_split': 14, 'min_samples_leaf': 4, 'max_features': None}. Best is trial 0 with value: 0.9750148439917656.\n",
      "[I 2024-05-30 19:07:27,423] Trial 1 finished with value: 0.9724691983497477 and parameters: {'n_estimators': 271, 'max_depth': 21, 'min_samples_split': 17, 'min_samples_leaf': 10, 'max_features': 'log2'}. Best is trial 1 with value: 0.9724691983497477.\n",
      "[I 2024-05-30 19:07:28,752] Trial 2 finished with value: 0.9569873039929422 and parameters: {'n_estimators': 593, 'max_depth': 5, 'min_samples_split': 16, 'min_samples_leaf': 1, 'max_features': 'log2'}. Best is trial 2 with value: 0.9569873039929422.\n",
      "[I 2024-05-30 19:07:32,064] Trial 3 finished with value: 0.9907400029546503 and parameters: {'n_estimators': 902, 'max_depth': 19, 'min_samples_split': 5, 'min_samples_leaf': 4, 'max_features': 'sqrt'}. Best is trial 2 with value: 0.9569873039929422.\n",
      "[I 2024-05-30 19:07:37,042] Trial 4 finished with value: 1.033202556036509 and parameters: {'n_estimators': 479, 'max_depth': 22, 'min_samples_split': 3, 'min_samples_leaf': 1, 'max_features': None}. Best is trial 2 with value: 0.9569873039929422.\n",
      "[I 2024-05-30 19:07:41,329] Trial 5 finished with value: 0.9589940700337045 and parameters: {'n_estimators': 943, 'max_depth': 7, 'min_samples_split': 9, 'min_samples_leaf': 3, 'max_features': None}. Best is trial 2 with value: 0.9569873039929422.\n",
      "[I 2024-05-30 19:07:46,468] Trial 6 finished with value: 1.0086664962455585 and parameters: {'n_estimators': 518, 'max_depth': 28, 'min_samples_split': 16, 'min_samples_leaf': 1, 'max_features': None}. Best is trial 2 with value: 0.9569873039929422.\n",
      "[I 2024-05-30 19:07:49,648] Trial 7 finished with value: 0.9734964555329851 and parameters: {'n_estimators': 895, 'max_depth': 25, 'min_samples_split': 20, 'min_samples_leaf': 9, 'max_features': 'log2'}. Best is trial 2 with value: 0.9569873039929422.\n",
      "[I 2024-05-30 19:07:51,553] Trial 8 finished with value: 0.9786839064386599 and parameters: {'n_estimators': 510, 'max_depth': 29, 'min_samples_split': 2, 'min_samples_leaf': 8, 'max_features': 'sqrt'}. Best is trial 2 with value: 0.9569873039929422.\n",
      "[I 2024-05-30 19:07:52,702] Trial 9 finished with value: 0.97551577253276 and parameters: {'n_estimators': 272, 'max_depth': 22, 'min_samples_split': 20, 'min_samples_leaf': 3, 'max_features': 'sqrt'}. Best is trial 2 with value: 0.9569873039929422.\n",
      "[I 2024-05-30 19:07:54,253] Trial 10 finished with value: 0.9614954709674547 and parameters: {'n_estimators': 703, 'max_depth': 5, 'min_samples_split': 11, 'min_samples_leaf': 7, 'max_features': 'log2'}. Best is trial 2 with value: 0.9569873039929422.\n",
      "[I 2024-05-30 19:07:55,901] Trial 11 finished with value: 0.9567247580717528 and parameters: {'n_estimators': 724, 'max_depth': 5, 'min_samples_split': 10, 'min_samples_leaf': 2, 'max_features': 'log2'}. Best is trial 11 with value: 0.9567247580717528.\n",
      "[I 2024-05-30 19:07:58,614] Trial 12 finished with value: 0.9728177542002843 and parameters: {'n_estimators': 702, 'max_depth': 12, 'min_samples_split': 8, 'min_samples_leaf': 1, 'max_features': 'log2'}. Best is trial 11 with value: 0.9567247580717528.\n",
      "[I 2024-05-30 19:08:01,027] Trial 13 finished with value: 0.9669863952874492 and parameters: {'n_estimators': 730, 'max_depth': 10, 'min_samples_split': 13, 'min_samples_leaf': 5, 'max_features': 'log2'}. Best is trial 11 with value: 0.9567247580717528.\n",
      "[I 2024-05-30 19:08:01,501] Trial 14 finished with value: 0.9766199753718766 and parameters: {'n_estimators': 123, 'max_depth': 14, 'min_samples_split': 8, 'min_samples_leaf': 2, 'max_features': 'log2'}. Best is trial 11 with value: 0.9567247580717528.\n",
      "[I 2024-05-30 19:08:11,194] Trial 15 finished with value: 0.9649835984415318 and parameters: {'n_estimators': 817, 'max_depth': 8, 'min_samples_split': 12, 'min_samples_leaf': 6, 'max_features': 'log2'}. Best is trial 11 with value: 0.9567247580717528.\n",
      "[I 2024-05-30 19:08:15,160] Trial 16 finished with value: 0.9729643757817934 and parameters: {'n_estimators': 632, 'max_depth': 15, 'min_samples_split': 16, 'min_samples_leaf': 2, 'max_features': 'log2'}. Best is trial 11 with value: 0.9567247580717528.\n",
      "[I 2024-05-30 19:08:16,604] Trial 17 finished with value: 0.9556688867797051 and parameters: {'n_estimators': 384, 'max_depth': 5, 'min_samples_split': 18, 'min_samples_leaf': 3, 'max_features': 'log2'}. Best is trial 17 with value: 0.9556688867797051.\n",
      "[I 2024-05-30 19:08:18,504] Trial 18 finished with value: 0.9613813901031467 and parameters: {'n_estimators': 417, 'max_depth': 9, 'min_samples_split': 10, 'min_samples_leaf': 5, 'max_features': 'log2'}. Best is trial 17 with value: 0.9556688867797051.\n",
      "[I 2024-05-30 19:08:21,219] Trial 19 finished with value: 0.9853499430305528 and parameters: {'n_estimators': 378, 'max_depth': 16, 'min_samples_split': 5, 'min_samples_leaf': 3, 'max_features': 'sqrt'}. Best is trial 17 with value: 0.9556688867797051.\n",
      "[I 2024-05-30 19:08:22,760] Trial 20 finished with value: 0.9746331793302347 and parameters: {'n_estimators': 289, 'max_depth': 11, 'min_samples_split': 6, 'min_samples_leaf': 4, 'max_features': 'log2'}. Best is trial 17 with value: 0.9556688867797051.\n",
      "[I 2024-05-30 19:08:25,694] Trial 21 finished with value: 0.9564564810432128 and parameters: {'n_estimators': 796, 'max_depth': 5, 'min_samples_split': 18, 'min_samples_leaf': 2, 'max_features': 'log2'}. Best is trial 17 with value: 0.9556688867797051.\n",
      "[I 2024-05-30 19:08:28,625] Trial 22 finished with value: 0.956369574664994 and parameters: {'n_estimators': 821, 'max_depth': 5, 'min_samples_split': 18, 'min_samples_leaf': 2, 'max_features': 'log2'}. Best is trial 17 with value: 0.9556688867797051.\n",
      "[I 2024-05-30 19:08:32,996] Trial 23 finished with value: 0.958956637526093 and parameters: {'n_estimators': 978, 'max_depth': 7, 'min_samples_split': 18, 'min_samples_leaf': 3, 'max_features': 'log2'}. Best is trial 17 with value: 0.9556688867797051.\n",
      "[I 2024-05-30 19:08:36,329] Trial 24 finished with value: 0.9587433631020069 and parameters: {'n_estimators': 822, 'max_depth': 7, 'min_samples_split': 18, 'min_samples_leaf': 2, 'max_features': 'log2'}. Best is trial 17 with value: 0.9556688867797051.\n",
      "[I 2024-05-30 19:08:44,380] Trial 25 finished with value: 0.9656369295199655 and parameters: {'n_estimators': 814, 'max_depth': 9, 'min_samples_split': 14, 'min_samples_leaf': 6, 'max_features': 'log2'}. Best is trial 17 with value: 0.9556688867797051.\n",
      "[I 2024-05-30 19:08:45,612] Trial 26 finished with value: 0.9575538655917302 and parameters: {'n_estimators': 379, 'max_depth': 5, 'min_samples_split': 19, 'min_samples_leaf': 4, 'max_features': 'log2'}. Best is trial 17 with value: 0.9556688867797051.\n",
      "[I 2024-05-30 19:08:48,303] Trial 27 finished with value: 0.9736007522690802 and parameters: {'n_estimators': 642, 'max_depth': 13, 'min_samples_split': 15, 'min_samples_leaf': 2, 'max_features': 'log2'}. Best is trial 17 with value: 0.9556688867797051.\n",
      "[I 2024-05-30 19:08:49,071] Trial 28 finished with value: 0.9536059403507232 and parameters: {'n_estimators': 173, 'max_depth': 7, 'min_samples_split': 18, 'min_samples_leaf': 3, 'max_features': None}. Best is trial 28 with value: 0.9536059403507232.\n",
      "[I 2024-05-30 19:08:49,799] Trial 29 finished with value: 0.968246999903561 and parameters: {'n_estimators': 111, 'max_depth': 11, 'min_samples_split': 14, 'min_samples_leaf': 5, 'max_features': None}. Best is trial 28 with value: 0.9536059403507232.\n",
      "[I 2024-05-30 19:08:50,615] Trial 30 finished with value: 0.9547122168617264 and parameters: {'n_estimators': 187, 'max_depth': 7, 'min_samples_split': 20, 'min_samples_leaf': 3, 'max_features': None}. Best is trial 28 with value: 0.9536059403507232.\n",
      "[I 2024-05-30 19:08:51,550] Trial 31 finished with value: 0.9544668258910597 and parameters: {'n_estimators': 196, 'max_depth': 7, 'min_samples_split': 20, 'min_samples_leaf': 3, 'max_features': None}. Best is trial 28 with value: 0.9536059403507232.\n",
      "[I 2024-05-30 19:08:52,466] Trial 32 finished with value: 0.9597725157073467 and parameters: {'n_estimators': 189, 'max_depth': 8, 'min_samples_split': 20, 'min_samples_leaf': 4, 'max_features': None}. Best is trial 28 with value: 0.9536059403507232.\n",
      "[I 2024-05-30 19:08:53,343] Trial 33 finished with value: 0.9544466698232436 and parameters: {'n_estimators': 193, 'max_depth': 7, 'min_samples_split': 19, 'min_samples_leaf': 3, 'max_features': None}. Best is trial 28 with value: 0.9536059403507232.\n",
      "[I 2024-05-30 19:08:54,457] Trial 34 finished with value: 0.9594486682913449 and parameters: {'n_estimators': 200, 'max_depth': 9, 'min_samples_split': 19, 'min_samples_leaf': 4, 'max_features': None}. Best is trial 28 with value: 0.9536059403507232.\n",
      "[I 2024-05-30 19:08:56,208] Trial 35 finished with value: 0.9806747528941172 and parameters: {'n_estimators': 199, 'max_depth': 18, 'min_samples_split': 17, 'min_samples_leaf': 3, 'max_features': None}. Best is trial 28 with value: 0.9536059403507232.\n",
      "[I 2024-05-30 19:08:57,652] Trial 36 finished with value: 0.9571593826594049 and parameters: {'n_estimators': 305, 'max_depth': 7, 'min_samples_split': 20, 'min_samples_leaf': 4, 'max_features': None}. Best is trial 28 with value: 0.9536059403507232.\n",
      "[I 2024-05-30 19:08:58,573] Trial 37 finished with value: 0.9685003780879614 and parameters: {'n_estimators': 147, 'max_depth': 11, 'min_samples_split': 17, 'min_samples_leaf': 1, 'max_features': None}. Best is trial 28 with value: 0.9536059403507232.\n",
      "[I 2024-05-30 19:09:00,200] Trial 38 finished with value: 0.9750862356043961 and parameters: {'n_estimators': 232, 'max_depth': 13, 'min_samples_split': 19, 'min_samples_leaf': 5, 'max_features': None}. Best is trial 28 with value: 0.9536059403507232.\n",
      "[I 2024-05-30 19:09:01,791] Trial 39 finished with value: 0.9568001959134164 and parameters: {'n_estimators': 336, 'max_depth': 7, 'min_samples_split': 16, 'min_samples_leaf': 3, 'max_features': None}. Best is trial 28 with value: 0.9536059403507232.\n",
      "[I 2024-05-30 19:09:03,880] Trial 40 finished with value: 0.9984992317653525 and parameters: {'n_estimators': 238, 'max_depth': 25, 'min_samples_split': 15, 'min_samples_leaf': 4, 'max_features': None}. Best is trial 28 with value: 0.9536059403507232.\n",
      "[I 2024-05-30 19:09:04,508] Trial 41 finished with value: 0.9524428083776583 and parameters: {'n_estimators': 156, 'max_depth': 6, 'min_samples_split': 19, 'min_samples_leaf': 3, 'max_features': None}. Best is trial 41 with value: 0.9524428083776583.\n",
      "[I 2024-05-30 19:09:05,229] Trial 42 finished with value: 0.9659623506836782 and parameters: {'n_estimators': 155, 'max_depth': 8, 'min_samples_split': 20, 'min_samples_leaf': 10, 'max_features': None}. Best is trial 41 with value: 0.9524428083776583.\n",
      "[I 2024-05-30 19:09:05,697] Trial 43 finished with value: 0.9525851404935906 and parameters: {'n_estimators': 100, 'max_depth': 7, 'min_samples_split': 19, 'min_samples_leaf': 3, 'max_features': None}. Best is trial 41 with value: 0.9524428083776583.\n",
      "[I 2024-05-30 19:09:06,349] Trial 44 finished with value: 0.9620643431686613 and parameters: {'n_estimators': 104, 'max_depth': 10, 'min_samples_split': 19, 'min_samples_leaf': 1, 'max_features': None}. Best is trial 41 with value: 0.9524428083776583.\n",
      "[I 2024-05-30 19:09:07,349] Trial 45 finished with value: 0.9536329176824033 and parameters: {'n_estimators': 245, 'max_depth': 6, 'min_samples_split': 17, 'min_samples_leaf': 3, 'max_features': None}. Best is trial 41 with value: 0.9524428083776583.\n",
      "[I 2024-05-30 19:09:08,515] Trial 46 finished with value: 0.9624108652701023 and parameters: {'n_estimators': 251, 'max_depth': 6, 'min_samples_split': 17, 'min_samples_leaf': 9, 'max_features': None}. Best is trial 41 with value: 0.9524428083776583.\n",
      "[I 2024-05-30 19:09:09,378] Trial 47 finished with value: 0.9659889910006931 and parameters: {'n_estimators': 143, 'max_depth': 10, 'min_samples_split': 15, 'min_samples_leaf': 4, 'max_features': None}. Best is trial 41 with value: 0.9524428083776583.\n",
      "[I 2024-05-30 19:09:10,112] Trial 48 finished with value: 0.9565239675183822 and parameters: {'n_estimators': 321, 'max_depth': 6, 'min_samples_split': 16, 'min_samples_leaf': 2, 'max_features': 'sqrt'}. Best is trial 41 with value: 0.9524428083776583.\n",
      "[I 2024-05-30 19:09:11,080] Trial 49 finished with value: 0.9565367769635874 and parameters: {'n_estimators': 159, 'max_depth': 9, 'min_samples_split': 17, 'min_samples_leaf': 3, 'max_features': None}. Best is trial 41 with value: 0.9524428083776583.\n"
     ]
    },
    {
     "name": "stdout",
     "output_type": "stream",
     "text": [
      "Best Hyperparameters: {'n_estimators': 156, 'max_depth': 6, 'min_samples_split': 19, 'min_samples_leaf': 3, 'max_features': None}\n",
      "Mean Absolute Error (MAE): 0.70\n",
      "Root Mean Squared Error (RMSE): 0.98\n"
     ]
    },
    {
     "name": "stderr",
     "output_type": "stream",
     "text": [
      "c:\\Users\\aadit\\anaconda3\\Lib\\site-packages\\sklearn\\metrics\\_regression.py:483: FutureWarning: 'squared' is deprecated in version 1.4 and will be removed in 1.6. To calculate the root mean squared error, use the function'root_mean_squared_error'.\n",
      "  warnings.warn(\n"
     ]
    }
   ],
   "source": [
    "# Set up Optuna study\n",
    "study = optuna.create_study(direction='minimize')\n",
    "study.optimize(objective, n_trials=50)\n",
    "\n",
    "# Get the best hyperparameters\n",
    "best_params = study.best_params\n",
    "\n",
    "# Train the model with the best hyperparameters\n",
    "rf_best = RandomForestRegressor(**best_params, random_state=42)\n",
    "rf_best.fit(X_train, y_train)\n",
    "\n",
    "# Evaluate the model\n",
    "y_pred = rf_best.predict(X_test)\n",
    "mae = mean_absolute_error(y_test, y_pred)\n",
    "rmse = mean_squared_error(y_test, y_pred, squared=False)\n",
    "\n",
    "print(f\"Best Hyperparameters: {best_params}\")\n",
    "print(f\"Mean Absolute Error (MAE): {mae:.2f}\")\n",
    "print(f\"Root Mean Squared Error (RMSE): {rmse:.2f}\")\n"
   ]
  }
 ],
 "metadata": {
  "kernelspec": {
   "display_name": "base",
   "language": "python",
   "name": "python3"
  },
  "language_info": {
   "codemirror_mode": {
    "name": "ipython",
    "version": 3
   },
   "file_extension": ".py",
   "mimetype": "text/x-python",
   "name": "python",
   "nbconvert_exporter": "python",
   "pygments_lexer": "ipython3",
   "version": "3.11.4"
  }
 },
 "nbformat": 4,
 "nbformat_minor": 2
}
