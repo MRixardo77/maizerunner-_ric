{
 "cells": [
  {
   "cell_type": "code",
   "execution_count": 56,
   "metadata": {},
   "outputs": [],
   "source": [
    "import pandas as pd \n",
    "import os\n",
    "import copy"
   ]
  },
  {
   "cell_type": "code",
   "execution_count": 57,
   "metadata": {},
   "outputs": [],
   "source": [
    "import pandas as pd\n",
    "import os\n",
    "\n",
    "# Define the path to the folder containing the CSV files\n",
    "folder_path = r\"C:\\Users\\aadit\\ESA Research\\Contract Pricing\"\n",
    "\n",
    "# List all files in the directory\n",
    "file_names = [\n",
    "    'Contracts Pricing - December 24.csv',\n",
    "    'Contracts Pricing - December 25.csv',\n",
    "    'Contracts Pricing - March 25.csv',\n",
    "    'Contracts Pricing - March 26.csv',\n",
    "    'Contracts Pricing - May 25.csv',\n",
    "    'Contracts Pricing - May 26.csv',\n",
    "    'Contracts Pricing - July 24.csv',\n",
    "    'Contracts Pricing - July 25.csv',\n",
    "    'Contracts Pricing - September 24.csv',\n",
    "    'Contracts Pricing - September 25.csv'\n",
    "]\n",
    "\n",
    "# Create an empty dictionary to store DataFrames\n",
    "dataframes = {}\n",
    "\n",
    "# Loop through each file and read it into a DataFrame\n",
    "for file_name in file_names:\n",
    "    file_path = os.path.join(folder_path, file_name)\n",
    "    df_name = file_name.split('.')[0]  # Use the file name without extension as the DataFrame name\n",
    "    dataframes[df_name] = pd.read_csv(file_path)"
   ]
  },
  {
   "cell_type": "code",
   "execution_count": 58,
   "metadata": {},
   "outputs": [
    {
     "name": "stdout",
     "output_type": "stream",
     "text": [
      "        Date   Open    High     Low   Close  Adj Close    Volume  \\\n",
      "0 2024-05-17    482  485.25  476.25   476.5     476.50   89188.0   \n",
      "1 2024-05-16  486.5   489.5   480.5  481.75     481.75   89188.0   \n",
      "2 2024-05-15    491  496.75     486     487     487.00  125182.0   \n",
      "3 2024-05-14    492  496.25  490.25     491     491.00  140713.0   \n",
      "4 2024-05-13    490   495.5  486.75     493     493.00  140799.0   \n",
      "\n",
      "   Maturity Month  Maturity Year Maturity Date  Days Difference   Returns  \\\n",
      "0              12             24    2024-12-15              212       NaN   \n",
      "1              12             24    2024-12-15              213  1.101784   \n",
      "2              12             24    2024-12-15              214  1.089777   \n",
      "3              12             24    2024-12-15              215  0.821355   \n",
      "4              12             24    2024-12-15              216  0.407332   \n",
      "\n",
      "   Next Day Returns  \n",
      "0               NaN  \n",
      "1               NaN  \n",
      "2          1.101784  \n",
      "3          1.089777  \n",
      "4          0.821355  \n"
     ]
    }
   ],
   "source": [
    "import copy\n",
    "import pandas as pd\n",
    "import numpy as np\n",
    "\n",
    "dfs_list = list(dataframes.values())\n",
    "\n",
    "for df in dfs_list:\n",
    "    # Convert the 'Date' column to datetime with the correct format\n",
    "    df['Date'] = pd.to_datetime(df['Date'], format=\"%b %d, %Y\")\n",
    "    df['Maturity Date'] = pd.to_datetime(df['Maturity Date'], format=\"%m/%d/%Y\")\n",
    "\n",
    "    \n",
    "    # Replace '-' with NaN in 'Adj Close' column\n",
    "    df['Adj Close'].replace('-', np.nan, inplace=True)\n",
    "    \n",
    "    # Replace '-' with 0 in 'Volume' column\n",
    "    df['Volume'].replace('-', 0, inplace=True)\n",
    "    \n",
    "    # Drop rows with NaN values in 'Adj Close' column\n",
    "    df.dropna(subset=['Adj Close'], inplace=True)\n",
    "    nan_values = df.isna().sum()\n",
    "    df['Days Difference'] = (df['Maturity Date'] - df['Date']).dt.days\n",
    "    \n",
    "\n",
    "    df['Adj Close'] = pd.to_numeric(df['Adj Close'])\n",
    "    # Replace commas with empty string in 'Volume' column\n",
    "    df['Volume'] = df['Volume'].str.replace(',', '')\n",
    "\n",
    "# Convert 'Volume' column to numeric type\n",
    "    df['Volume'] = pd.to_numeric(df['Volume'])\n",
    "    df['Maturity Month'] = pd.to_numeric(df['Maturity Month'])\n",
    "    df['Maturity Year'] = pd.to_numeric(df['Maturity Year'])\n",
    "\n",
    "    df['Returns'] = df['Adj Close'].pct_change() * 100\n",
    "    \n",
    "    df['Next Day Returns'] = df['Returns'].shift(1)\n",
    "\n",
    "\n",
    "print(dfs_list[0].head())\n",
    "\n"
   ]
  }
 ],
 "metadata": {
  "kernelspec": {
   "display_name": "base",
   "language": "python",
   "name": "python3"
  },
  "language_info": {
   "codemirror_mode": {
    "name": "ipython",
    "version": 3
   },
   "file_extension": ".py",
   "mimetype": "text/x-python",
   "name": "python",
   "nbconvert_exporter": "python",
   "pygments_lexer": "ipython3",
   "version": "3.11.4"
  }
 },
 "nbformat": 4,
 "nbformat_minor": 2
}
