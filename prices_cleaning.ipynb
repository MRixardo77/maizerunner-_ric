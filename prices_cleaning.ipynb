{
 "cells": [
  {
   "cell_type": "code",
   "execution_count": 73,
   "metadata": {},
   "outputs": [],
   "source": [
    "import pandas as pd \n",
    "import os\n",
    "import copy\n",
    "import statsmodels.api as sm\n",
    "import numpy as np\n",
    "from sklearn import linear_model\n",
    "from sklearn.model_selection import GridSearchCV\n",
    "from sklearn.metrics import mean_squared_error\n",
    "from sklearn.model_selection import train_test_split, cross_val_score, GridSearchCV\n",
    "from sklearn.ensemble import RandomForestRegressor\n",
    "from sklearn.metrics import mean_absolute_error, mean_squared_error,root_mean_squared_error\n",
    "from sklearn.metrics import r2_score\n",
    "import optuna\n",
    "import seaborn as sns"
   ]
  },
  {
   "cell_type": "code",
   "execution_count": 74,
   "metadata": {},
   "outputs": [],
   "source": [
    "import pandas as pd\n",
    "import os\n",
    "\n",
    "# Define the path to the folder containing the CSV files\n",
    "folder_path = r\"C:\\Users\\aadit\\ESA Research\\Contract Pricing\"\n",
    "\n",
    "# List all files in the directory\n",
    "file_names = [\n",
    "    'Contracts Pricing - December 24.csv',\n",
    "    'Contracts Pricing - December 25.csv',\n",
    "    'Contracts Pricing - March 25.csv',\n",
    "    'Contracts Pricing - March 26.csv',\n",
    "    'Contracts Pricing - May 25.csv',\n",
    "    'Contracts Pricing - May 26.csv',\n",
    "    'Contracts Pricing - July 24.csv',\n",
    "    'Contracts Pricing - July 25.csv',\n",
    "    'Contracts Pricing - September 24.csv',\n",
    "    'Contracts Pricing - September 25.csv'\n",
    "]\n",
    "\n",
    "# Create an empty dictionary to store DataFrames\n",
    "dataframes = {}\n",
    "\n",
    "# Loop through each file and read it into a DataFrame\n",
    "for file_name in file_names:\n",
    "    file_path = os.path.join(folder_path, file_name)\n",
    "    df_name = file_name.split('.')[0]  # Use the file name without extension as the DataFrame name\n",
    "    dataframes[df_name] = pd.read_csv(file_path)"
   ]
  },
  {
   "cell_type": "code",
   "execution_count": 75,
   "metadata": {},
   "outputs": [],
   "source": [
    "import copy\n",
    "import pandas as pd\n",
    "import numpy as np\n",
    "\n",
    "dfs_list = list(dataframes.values())\n",
    "\n",
    "for df in dfs_list:\n",
    "    # Convert the 'Date' column to datetime with the correct format\n",
    "    df['Date'] = pd.to_datetime(df['Date'], format=\"%b %d, %Y\")\n",
    "    df['Maturity Date'] = pd.to_datetime(df['Maturity Date'], format=\"%m/%d/%Y\")\n",
    "\n",
    "    \n",
    "    # Replace '-' with NaN in 'Adj Close' column\n",
    "    df['Adj Close'].replace('-', np.nan, inplace=True)\n",
    "    \n",
    "    # Replace '-' with 0 in 'Volume' column\n",
    "    df['Volume'].replace('-', 0, inplace=True)\n",
    "    \n",
    "    # Drop rows with NaN values in 'Adj Close' column\n",
    "    df.dropna(subset=['Adj Close'], inplace=True)\n",
    "    nan_values = df.isna().sum()\n",
    "    df['Time to Maturity'] = (df['Maturity Date'] - df['Date']).dt.days\n",
    "    \n",
    "\n",
    "    df['Adj Close'] = pd.to_numeric(df['Adj Close'])\n",
    "    # Replace commas with empty string in 'Volume' column\n",
    "    df['Volume'] = df['Volume'].str.replace(',', '')\n",
    "\n",
    "# Convert 'Volume' column to numeric type\n",
    "    df['Volume'] = pd.to_numeric(df['Volume'])\n",
    "    df['Maturity Month'] = pd.to_numeric(df['Maturity Month'])\n",
    "    df['Maturity Year'] = pd.to_numeric(df['Maturity Year'])\n",
    "\n",
    "\n",
    "\n",
    "\n"
   ]
  },
  {
   "cell_type": "code",
   "execution_count": 76,
   "metadata": {},
   "outputs": [],
   "source": [
    "for df in dfs_list:\n",
    "    df.iloc[:] = df.iloc[::-1].values\n",
    "    df['Returns'] = df['Adj Close'].pct_change() * 100\n",
    "    df['Next Day Returns'] = df['Returns'].shift(-1)\n",
    "    df = df.iloc[1::-1]"
   ]
  },
  {
   "cell_type": "code",
   "execution_count": 77,
   "metadata": {},
   "outputs": [
    {
     "name": "stdout",
     "output_type": "stream",
     "text": [
      "<class 'pandas.core.frame.DataFrame'>\n"
     ]
    }
   ],
   "source": [
    "merged_df = pd.concat(dfs_list)\n",
    "print(type(merged_df))"
   ]
  },
  {
   "cell_type": "code",
   "execution_count": 78,
   "metadata": {},
   "outputs": [],
   "source": [
    "\n",
    "def objective(trial):\n",
    "    params = {\n",
    "        'n_estimators': trial.suggest_int('n_estimators', 100, 1000),\n",
    "        'max_depth': trial.suggest_int('max_depth', 5, 30),\n",
    "        'min_samples_split': trial.suggest_int('min_samples_split', 2, 20),\n",
    "        'min_samples_leaf': trial.suggest_int('min_samples_leaf', 1, 10),\n",
    "        'max_features': trial.suggest_categorical('max_features', ['sqrt', 'log2', None])\n",
    "    }\n",
    "\n",
    "    rf_model = RandomForestRegressor(**params, random_state=42)\n",
    "\n",
    "    # Train the model\n",
    "    rf_model.fit(X_train, y_train)\n",
    "\n",
    "    # Evaluate the model\n",
    "    y_pred = rf_model.predict(X_test)\n",
    "    return mean_squared_error(y_test, y_pred)"
   ]
  },
  {
   "cell_type": "code",
   "execution_count": 79,
   "metadata": {},
   "outputs": [
    {
     "name": "stdout",
     "output_type": "stream",
     "text": [
      "                            OLS Regression Results                            \n",
      "==============================================================================\n",
      "Dep. Variable:       Next Day Returns   R-squared:                       0.003\n",
      "Model:                            OLS   Adj. R-squared:                  0.001\n",
      "Method:                 Least Squares   F-statistic:                     1.840\n",
      "Date:                Thu, 30 May 2024   Prob (F-statistic):              0.118\n",
      "Time:                        18:59:59   Log-Likelihood:                -3256.9\n",
      "No. Observations:                2440   AIC:                             6524.\n",
      "Df Residuals:                    2435   BIC:                             6553.\n",
      "Df Model:                           4                                         \n",
      "Covariance Type:            nonrobust                                         \n",
      "====================================================================================\n",
      "                       coef    std err          t      P>|t|      [0.025      0.975]\n",
      "------------------------------------------------------------------------------------\n",
      "const                0.8632      0.947      0.912      0.362      -0.994       2.720\n",
      "Returns              0.0163      0.020      0.822      0.411      -0.023       0.055\n",
      "Maturity Month      -0.0042      0.007     -0.590      0.555      -0.018       0.010\n",
      "Maturity Year       -0.0390      0.038     -1.021      0.308      -0.114       0.036\n",
      "Time to Maturity     0.0002   7.73e-05      2.391      0.017    3.33e-05       0.000\n",
      "==============================================================================\n",
      "Omnibus:                      185.918   Durbin-Watson:                   1.959\n",
      "Prob(Omnibus):                  0.000   Jarque-Bera (JB):              948.450\n",
      "Skew:                           0.127   Prob(JB):                    1.11e-206\n",
      "Kurtosis:                       6.044   Cond. No.                     3.65e+04\n",
      "==============================================================================\n",
      "\n",
      "Notes:\n",
      "[1] Standard Errors assume that the covariance matrix of the errors is correctly specified.\n",
      "[2] The condition number is large, 3.65e+04. This might indicate that there are\n",
      "strong multicollinearity or other numerical problems.\n",
      "Mean Absolute Error (MAE): 0.70\n",
      "Root Mean Squared Error (RMSE): 0.98\n"
     ]
    }
   ],
   "source": [
    "merged_df = merged_df.dropna()\n",
    "\n",
    "x_vars = ['Returns', 'Maturity Month', 'Maturity Year', 'Time to Maturity']\n",
    "X = merged_df.loc[:, x_vars]\n",
    "y = merged_df['Next Day Returns']\n",
    "\n",
    "X_train, X_test, y_train, y_test = train_test_split(X, y, test_size=0.25, random_state=42)\n",
    "\n",
    "# Fit the OLS model\n",
    "X_train = sm.add_constant(X_train)\n",
    "model = sm.OLS(y_train, X_train).fit()\n",
    "\n",
    "# Make predictions on the test set\n",
    "X_test = sm.add_constant(X_test)\n",
    "y_pred = model.predict(X_test)\n",
    "\n",
    "# Evaluate the model\n",
    "mae = mean_absolute_error(y_test, y_pred)\n",
    "rmse = np.sqrt(mean_squared_error(y_test, y_pred))  # Corrected function name\n",
    "\n",
    "# Print model summary and evaluation metrics\n",
    "print(model.summary())\n",
    "print(f\"Mean Absolute Error (MAE): {mae:.2f}\")\n",
    "print(f\"Root Mean Squared Error (RMSE): {rmse:.2f}\")\n"
   ]
  }
 ],
 "metadata": {
  "kernelspec": {
   "display_name": "base",
   "language": "python",
   "name": "python3"
  },
  "language_info": {
   "codemirror_mode": {
    "name": "ipython",
    "version": 3
   },
   "file_extension": ".py",
   "mimetype": "text/x-python",
   "name": "python",
   "nbconvert_exporter": "python",
   "pygments_lexer": "ipython3",
   "version": "3.11.4"
  }
 },
 "nbformat": 4,
 "nbformat_minor": 2
}
