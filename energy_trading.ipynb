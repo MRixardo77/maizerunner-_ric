{
 "cells": [
  {
   "cell_type": "code",
   "execution_count": 1,
   "metadata": {},
   "outputs": [],
   "source": [
    "import pandas as pd\n",
    "import matplotlib.pyplot as plt\n",
    "import statsmodels.api as sm\n",
    "import numpy as np\n",
    "from sklearn import linear_model\n",
    "from sklearn.model_selection import GridSearchCV\n",
    "from sklearn.metrics import mean_squared_error\n",
    "from sklearn.model_selection import train_test_split, cross_val_score, GridSearchCV\n",
    "from sklearn.ensemble import RandomForestRegressor\n",
    "from sklearn.metrics import mean_absolute_error, mean_squared_error,root_mean_squared_error\n",
    "from sklearn.metrics import r2_score\n",
    "import optuna\n",
    "import seaborn as sns"
   ]
  },
  {
   "cell_type": "code",
   "execution_count": 16,
   "metadata": {},
   "outputs": [
    {
     "name": "stdout",
     "output_type": "stream",
     "text": [
      "        Hour Ending   Location ID  Locational Marginal Price\n",
      "count  29160.000000  29160.000000               29160.000000\n",
      "mean      12.500000  15226.084774                  26.641622\n",
      "std        6.922305  20386.826808                   5.138797\n",
      "min        1.000000    321.000000                  19.020000\n",
      "25%        6.750000   4190.000000                  21.990000\n",
      "50%       12.500000   4532.000000                  25.200000\n",
      "75%       18.250000  15386.000000                  31.960000\n",
      "max       24.000000  74615.000000                  36.830000\n",
      "        Hour Ending   Location ID  Locational Marginal Price\n",
      "count  29160.000000  29160.000000               29160.000000\n",
      "mean      12.500000  15226.084774                  26.641622\n",
      "std        6.922305  20386.826808                   5.138797\n",
      "min        1.000000    321.000000                  19.020000\n",
      "25%        6.750000   4190.000000                  21.990000\n",
      "50%       12.500000   4532.000000                  25.200000\n",
      "75%       18.250000  15386.000000                  31.960000\n",
      "max       24.000000  74615.000000                  36.830000\n"
     ]
    }
   ],
   "source": [
    "filename = 'WW_DALMP_ISO_20240501.csv'\n",
    "prices_df = pd.read_csv(filename)\n",
    "prices_df = prices_df[['Hour Ending','Date','Location ID','Location Name', 'Locational Marginal Price']]\n",
    "#prices_df['Hour Ending'] = abs(12- prices_df['Hour Ending']) \n",
    "print(prices_df.describe())\n",
    "prices_df = prices_df.dropna()\n",
    "print(prices_df.describe())\n"
   ]
  },
  {
   "cell_type": "code",
   "execution_count": 17,
   "metadata": {},
   "outputs": [
    {
     "name": "stdout",
     "output_type": "stream",
     "text": [
      "                                OLS Regression Results                               \n",
      "=====================================================================================\n",
      "Dep. Variable:     Locational Marginal Price   R-squared:                       0.208\n",
      "Model:                                   OLS   Adj. R-squared:                  0.208\n",
      "Method:                        Least Squares   F-statistic:                     7662.\n",
      "Date:                       Wed, 01 May 2024   Prob (F-statistic):               0.00\n",
      "Time:                               17:03:42   Log-Likelihood:                -85704.\n",
      "No. Observations:                      29160   AIC:                         1.714e+05\n",
      "Df Residuals:                          29158   BIC:                         1.714e+05\n",
      "Df Model:                                  1                                         \n",
      "Covariance Type:                   nonrobust                                         \n",
      "===============================================================================\n",
      "                  coef    std err          t      P>|t|      [0.025      0.975]\n",
      "-------------------------------------------------------------------------------\n",
      "const          22.4085      0.055    405.372      0.000      22.300      22.517\n",
      "Hour Ending     0.3386      0.004     87.535      0.000       0.331       0.346\n",
      "==============================================================================\n",
      "Omnibus:                   274096.288   Durbin-Watson:                   0.009\n",
      "Prob(Omnibus):                  0.000   Jarque-Bera (JB):             2988.118\n",
      "Skew:                           0.354   Prob(JB):                         0.00\n",
      "Kurtosis:                       1.601   Cond. No.                         29.6\n",
      "==============================================================================\n",
      "\n",
      "Notes:\n",
      "[1] Standard Errors assume that the covariance matrix of the errors is correctly specified.\n",
      "Mean Absolute Error (MAE): 4.10\n",
      "Root Mean Squared Error (RMSE): 4.57\n"
     ]
    }
   ],
   "source": [
    "x_vars = ['Hour Ending',]\n",
    "X = prices_df[x_vars]\n",
    "y = prices_df['Locational Marginal Price']\n",
    "    \n",
    "# Fit the OLS model\n",
    "X = sm.add_constant(X)\n",
    "model = sm.OLS(y, X).fit()\n",
    "    \n",
    "    # Make predictions on the test set\n",
    "y_pred = model.predict(X)\n",
    "residuals = y - y_pred\n",
    "# Evaluate the model\n",
    "mae = mean_absolute_error(y, y_pred)\n",
    "rmse = root_mean_squared_error(y, y_pred)\n",
    "    \n",
    "    # Print model summary and evaluation metrics\n",
    "print(model.summary())\n",
    "print(f\"Mean Absolute Error (MAE): {mae:.2f}\")\n",
    "print(f\"Root Mean Squared Error (RMSE): {rmse:.2f}\")"
   ]
  }
 ],
 "metadata": {
  "kernelspec": {
   "display_name": "base",
   "language": "python",
   "name": "python3"
  },
  "language_info": {
   "codemirror_mode": {
    "name": "ipython",
    "version": 3
   },
   "file_extension": ".py",
   "mimetype": "text/x-python",
   "name": "python",
   "nbconvert_exporter": "python",
   "pygments_lexer": "ipython3",
   "version": "3.11.4"
  }
 },
 "nbformat": 4,
 "nbformat_minor": 2
}
